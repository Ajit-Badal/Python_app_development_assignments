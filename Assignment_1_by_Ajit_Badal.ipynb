{
 "cells": [
  {
   "cell_type": "code",
   "execution_count": 1,
   "metadata": {},
   "outputs": [
    {
     "name": "stdout",
     "output_type": "stream",
     "text": [
      "Enter First Number (A) : 5\n",
      "Enter First Number (B) : 6\n",
      "After Swapping : \n",
      "A =  6\n",
      "B =  5\n"
     ]
    }
   ],
   "source": [
    "# 1. Write a program to swap two variables. Example: x = 3, y = 5 ==> y = 3 , x = 5.\n",
    "a = int(input(\"Enter First Number (A) : \"))\n",
    "b = int(input(\"Enter First Number (B) : \"))\n",
    "a=a+b\n",
    "b=a-b\n",
    "a=a-b\n",
    "print(\"After Swapping : \")\n",
    "print(\"A = \",a)\n",
    "print(\"B = \",b)"
   ]
  },
  {
   "cell_type": "code",
   "execution_count": 2,
   "metadata": {},
   "outputs": [
    {
     "name": "stdout",
     "output_type": "stream",
     "text": [
      "Enter number : 59\n",
      "The number you entered is 'ODD'.\n"
     ]
    }
   ],
   "source": [
    "# 2. Write a program to check if a number is odd or even.\n",
    "num = int(input(\"Enter number : \"))\n",
    "if (num%2==0):\n",
    "    print(\"The number you entered is 'EVEN'.\")\n",
    "else:\n",
    "    print(\"The number you entered is 'ODD'.\")"
   ]
  },
  {
   "cell_type": "code",
   "execution_count": 3,
   "metadata": {},
   "outputs": [
    {
     "name": "stdout",
     "output_type": "stream",
     "text": [
      "Please enter number : 82\n",
      "The square root of the number is :  9.055385138137417\n"
     ]
    }
   ],
   "source": [
    "# 3. Write a program to find the square root of a number.\n",
    "num = int(input(\"Please enter number : \"))\n",
    "print(\"The square root of the number is : \",num**(0.5))"
   ]
  },
  {
   "cell_type": "code",
   "execution_count": 4,
   "metadata": {},
   "outputs": [
    {
     "name": "stdout",
     "output_type": "stream",
     "text": [
      "Enter number upto which you want to print : 6\n",
      "In order : \n",
      "1  2  3  4  5  6  \n",
      "In reverse order : \n",
      "6  5  4  3  2  1  "
     ]
    }
   ],
   "source": [
    "# 4. Write a program to print all the natural numbers from 1 to n (user input). Then print the same in reverse order.\n",
    "num = int(input(\"Enter number upto which you want to print : \"))\n",
    "print(\"In order : \")\n",
    "for number in range(1,num+1):\n",
    "    print(number,end=\"  \")\n",
    "print()\n",
    "print(\"In reverse order : \")\n",
    "for number in range(num,0,-1):\n",
    "    print(number,end=\"  \")"
   ]
  },
  {
   "cell_type": "code",
   "execution_count": 1,
   "metadata": {},
   "outputs": [
    {
     "name": "stdout",
     "output_type": "stream",
     "text": [
      "Enter radius in centimeters : 2\n",
      "Volume of the sphere is : 10.666666666666666 centimeter cube.\n"
     ]
    }
   ],
   "source": [
    "# 5. Write a program which prints volume of a sphere, given the radius. (use pi = 3.14).\n",
    "num = float(input(\"Enter radius in centimeters : \"))\n",
    "print(\"Volume of the sphere is :\",(4/3)*(num**3),\"centimeter cube.\")"
   ]
  },
  {
   "cell_type": "code",
   "execution_count": 2,
   "metadata": {},
   "outputs": [
    {
     "name": "stdout",
     "output_type": "stream",
     "text": [
      "All odd numbers including 1 to 100 are :\n",
      "1  3  5  7  9  11  13  15  17  19  21  23  25  27  29  31  33  35  37  39  41  43  45  47  49  51  53  55  57  59  61  63  65  67  69  71  73  75  77  79  81  83  85  87  89  91  93  95  97  99  \n",
      "All even numbers including 1 to 100 are :\n",
      "2  4  6  8  10  12  14  16  18  20  22  24  26  28  30  32  34  36  38  40  42  44  46  48  50  52  54  56  58  60  62  64  66  68  70  72  74  76  78  80  82  84  86  88  90  92  94  96  98  100  "
     ]
    }
   ],
   "source": [
    "# 6. Print all odd numbers and even numbers between 1 to 100.\n",
    "print(\"All odd numbers including 1 to 100 are :\")\n",
    "for i in range (1,100,2):\n",
    "    print(i,end=\"  \")\n",
    "print(\"\\nAll even numbers including 1 to 100 are :\")\n",
    "for i in range (2,101,2):\n",
    "    print(i,end=\"  \")"
   ]
  },
  {
   "cell_type": "code",
   "execution_count": 4,
   "metadata": {},
   "outputs": [
    {
     "name": "stdout",
     "output_type": "stream",
     "text": [
      "Enter coefficient of x^2 : 1\n",
      "Enter coefficient of x : -9\n",
      "Enter constant : 14\n",
      "Roots are real but different.\n",
      "7.0 and 2.0\n"
     ]
    }
   ],
   "source": [
    "# 7. Write a program to compute roots of a quadratic equation when coefficients a, b and c are known (entered by the user).\n",
    "a = int(input(\"Enter coefficient of x^2 : \"))\n",
    "b = int(input(\"Enter coefficient of x : \"))\n",
    "c = int(input(\"Enter constant : \"))\n",
    "d = (b**2)-(4*a*c)\n",
    "if d==0:\n",
    "    print(\"Roots are equal.\")\n",
    "    print((-b)/2*a,\"and\",(-b)/2*a)\n",
    "elif d>0:\n",
    "    print(\"Roots are real but different.\")\n",
    "    print(((-b)+(d**(0.5)))/2*a,\"and\",((-b)-(d**(0.5)))/2*a)\n",
    "else:\n",
    "    print(\"Roots are complex.\")\n",
    "    print(((-b)+(d**(0.5)))/2*a,\"and\",((-b)-(d**(0.5)))/2*a)"
   ]
  },
  {
   "cell_type": "code",
   "execution_count": 5,
   "metadata": {},
   "outputs": [
    {
     "name": "stdout",
     "output_type": "stream",
     "text": [
      "Enter number : 8765432\n",
      "Total number of digits in this number is : 7\n"
     ]
    }
   ],
   "source": [
    "# 8. Count the number of digits in a number. Example: 5342 has 4 digits.\n",
    "count = 0\n",
    "num = int(input(\"Enter number : \"))\n",
    "while num>0:\n",
    "    num = int(num/10)\n",
    "    count+=1\n",
    "print(\"Total number of digits in this number is :\",count)"
   ]
  },
  {
   "cell_type": "code",
   "execution_count": 6,
   "metadata": {},
   "outputs": [
    {
     "name": "stdout",
     "output_type": "stream",
     "text": [
      "Enter number : 37\n",
      "This number is 'Prime'\n"
     ]
    }
   ],
   "source": [
    "# 9. Write a program to check if a number is prime or not. Example: 7 ==> True, 6 ==> False\n",
    "num = int(input(\"Enter number : \"))\n",
    "if(num == 1):\n",
    "    print(\"1 is co-prime.\")\n",
    "flag = True\n",
    "for i in range(2,(int(num/2))+1):\n",
    "    if num%i==0:\n",
    "        flag = False\n",
    "if flag==True:\n",
    "    print(\"This number is 'Prime'\")\n",
    "else:\n",
    "    print(\"This number is 'Composite'\")"
   ]
  },
  {
   "cell_type": "code",
   "execution_count": 7,
   "metadata": {},
   "outputs": [
    {
     "name": "stdout",
     "output_type": "stream",
     "text": [
      "Enter Number : 17\n",
      "The sum of all the multiples of 3 or 5 upto 17 is : 60\n"
     ]
    }
   ],
   "source": [
    "# 10. Write a program that asks the user for a number n and prints the sum of the numbers 1 to n \n",
    "#     such that only multiples of three or five are considered in the sum, e.g. 3, 5, 6, 9, 10, 12, 15 for n=17.\n",
    "sum = 0\n",
    "num = int(input(\"Enter Number : \"))\n",
    "for i in range(1,num+1):\n",
    "    if i%3==0 or i%5==0:\n",
    "        sum = sum + i\n",
    "print(\"The sum of all the multiples of 3 or 5 upto\",num,\"is :\",sum)"
   ]
  },
  {
   "cell_type": "code",
   "execution_count": 8,
   "metadata": {},
   "outputs": [
    {
     "name": "stdout",
     "output_type": "stream",
     "text": [
      "Press 1 for sum.\n",
      "Press 2 for product.\n",
      "Enter your choice : 2\n",
      "Enter number : 5\n",
      "The product from 1 to 5 is : 120\n"
     ]
    }
   ],
   "source": [
    "# 11. Write a program that asks the user for a number n and gives them the possibility \n",
    "#     to choose between computing the sum and computing the product of 1,…,n.\n",
    "choice = int(input(\"Press 1 for sum.\\nPress 2 for product.\\nEnter your choice : \"))\n",
    "n = int(input(\"Enter number : \"))\n",
    "if choice == 1:\n",
    "    sum = 0\n",
    "    for i in range(1,n+1):\n",
    "        sum = sum + i\n",
    "    print(\"The sum from 1 to\",n,\"is :\",sum)\n",
    "elif choice == 2:\n",
    "    product = 1\n",
    "    for i in range(1,n+1):\n",
    "        product = product * i\n",
    "    print(\"The product from 1 to\",n,\"is :\",product)\n",
    "else:\n",
    "    print(\"You entered wrong choice.\")"
   ]
  },
  {
   "cell_type": "code",
   "execution_count": 9,
   "metadata": {},
   "outputs": [
    {
     "name": "stdout",
     "output_type": "stream",
     "text": [
      "The sum of all the multiples of 3 or 5 below 1000 is : 233168\n"
     ]
    }
   ],
   "source": [
    "# 12. Find the sum of all the multiples of 3 or 5 below 1000.\n",
    "sum = 0\n",
    "for i in range(1,1000):\n",
    "    if i%3==0 or i%5==0:\n",
    "        sum = sum + i\n",
    "print(\"The sum of all the multiples of 3 or 5 below 1000 is :\",sum)"
   ]
  },
  {
   "cell_type": "code",
   "execution_count": 10,
   "metadata": {},
   "outputs": [
    {
     "name": "stdout",
     "output_type": "stream",
     "text": [
      "2002  2009  2016  2023  2037  2044  2051  2058  2072  2079  2086  2093  2107  2114  2121  2128  2142  2149  2156  2163  2177  2184  2191  2198  2212  2219  2226  2233  2247  2254  2261  2268  2282  2289  2296  2303  2317  2324  2331  2338  2352  2359  2366  2373  2387  2394  2401  2408  2422  2429  2436  2443  2457  2464  2471  2478  2492  2499  2506  2513  2527  2534  2541  2548  2562  2569  2576  2583  2597  2604  2611  2618  2632  2639  2646  2653  2667  2674  2681  2688  2702  2709  2716  2723  2737  2744  2751  2758  2772  2779  2786  2793  2807  2814  2821  2828  2842  2849  2856  2863  2877  2884  2891  2898  2912  2919  2926  2933  2947  2954  2961  2968  2982  2989  2996  3003  3017  3024  3031  3038  3052  3059  3066  3073  3087  3094  3101  3108  3122  3129  3136  3143  3157  3164  3171  3178  3192  3199  "
     ]
    }
   ],
   "source": [
    "# 13. Write a program which will find all such numbers which are divisible by 7 but are\n",
    "#     not a multiple of 5, between 2000 and 3200 (both included).\n",
    "for num in range(2000,3200+1):\n",
    "    if num%7==0 and num%5!=0:\n",
    "        print(num,end=\"  \")"
   ]
  },
  {
   "cell_type": "code",
   "execution_count": 11,
   "metadata": {},
   "outputs": [
    {
     "name": "stdout",
     "output_type": "stream",
     "text": [
      "Difference between sum of squares of first one hundred natural numbers and square of the sum is : 333300\n"
     ]
    }
   ],
   "source": [
    "# 14. Find the difference between the sum of the squares of the first one hundred natural numbers and the square of the sum.\n",
    "sum_of_squares = 0\n",
    "normal_sum = 0\n",
    "for i in range(1,101):\n",
    "    sum_of_squares = sum_of_squares + (i**2)\n",
    "    normal_sum = normal_sum + i\n",
    "diff = sum_of_squares - normal_sum\n",
    "print(\"Difference between sum of squares of first one hundred natural numbers and square of the sum is :\",diff)"
   ]
  },
  {
   "cell_type": "code",
   "execution_count": 12,
   "metadata": {},
   "outputs": [
    {
     "name": "stdout",
     "output_type": "stream",
     "text": [
      "Enter number : 75\n",
      "Enter number : 59\n",
      "Enter number : 564\n",
      "Enter number : 456\n",
      "Enter number : 852\n",
      "Enter number : 9421\n",
      "Enter number : 12a\n",
      "You entered something wrong.\n",
      "Till now :\n",
      "Total sum is : 11427\n",
      "Total numbers are: 6\n",
      "Average is : 1904.5\n"
     ]
    }
   ],
   "source": [
    "# 15. Write a program which repeatedly reads numbers until the user enters \"stop\".\n",
    "#     Once \"stop\" is entered, print out the total, count, and average of the numbers.\n",
    "#     If the user enters anything other than a number then also stop.\n",
    "def check(a):\n",
    "    for i in range(0,len(a)):\n",
    "        if ord(a[i])>=48 and ord(a[i])<58:\n",
    "            flag=True\n",
    "        else:\n",
    "            flag=False\n",
    "    return(flag)\n",
    "\n",
    "sum=0\n",
    "count=0\n",
    "while(1):\n",
    "    a=input(\"Enter number : \")\n",
    "    if a==\"stop\":\n",
    "        print(\"You ordered to stop.\\nTill now :\")\n",
    "        print(\"Total sum is :\",sum)\n",
    "        print(\"Total numbers are:\",count)\n",
    "        print(\"Average is :\",(sum/count))\n",
    "        break\n",
    "    elif check(a):\n",
    "        a=int(a)\n",
    "        sum=sum+a\n",
    "        count+=1\n",
    "        continue\n",
    "    else:\n",
    "        print(\"You entered something wrong.\\nTill now :\")\n",
    "        print(\"Total sum is :\",sum)\n",
    "        print(\"Total numbers are:\",count)\n",
    "        print(\"Average is :\",(sum/count))\n",
    "        break"
   ]
  },
  {
   "cell_type": "code",
   "execution_count": 1,
   "metadata": {},
   "outputs": [
    {
     "name": "stdout",
     "output_type": "stream",
     "text": [
      "Enter number : 10\n",
      "The factorial of 10 is : 3628800\n"
     ]
    }
   ],
   "source": [
    "# 17. Write a program which can compute the factorial of a given number.\n",
    "n = int(input(\"Enter number : \"))\n",
    "fact = 1\n",
    "for i in range(1,n+1):\n",
    "    fact = fact * i\n",
    "print(\"The factorial of\",n,\"is :\",fact)"
   ]
  },
  {
   "cell_type": "code",
   "execution_count": 2,
   "metadata": {},
   "outputs": [
    {
     "name": "stdout",
     "output_type": "stream",
     "text": [
      "Enter number : 35\n",
      "0  1  1  2  3  5  8  13  21  34  "
     ]
    }
   ],
   "source": [
    "# 18. Write a program for printing fibonacci series till n.\n",
    "n = int(input(\"Enter number : \"))\n",
    "a = 0\n",
    "b = 1\n",
    "print(a,end=\"  \")\n",
    "print(b,end=\"  \")\n",
    "while(1):\n",
    "    c=a+b\n",
    "    if c>n:\n",
    "        break\n",
    "    print(c,end=\"  \")\n",
    "    a = b\n",
    "    b = c"
   ]
  },
  {
   "cell_type": "code",
   "execution_count": 3,
   "metadata": {},
   "outputs": [
    {
     "name": "stdout",
     "output_type": "stream",
     "text": [
      "Enter first number : 5\n",
      "Enter second number : 6\n",
      "The LCM of 5 and 6 is : 30\n"
     ]
    }
   ],
   "source": [
    "# 19. Write a program to find the LCM of two numbers.\n",
    "a = int(input(\"Enter first number : \"))\n",
    "b = int(input(\"Enter second number : \"))\n",
    "if a>b:\n",
    "    lower = b\n",
    "elif a==b:\n",
    "   print('LCM will be same as the number itself i.e.',a)\n",
    "else:\n",
    "    lower = a\n",
    "while(1):\n",
    "    if lower%a==0 and lower%b==0:\n",
    "        print(\"The LCM of\",a,\"and\",b,\"is :\",lower)\n",
    "        break\n",
    "    else:\n",
    "        lower+=1"
   ]
  },
  {
   "cell_type": "code",
   "execution_count": 4,
   "metadata": {},
   "outputs": [
    {
     "name": "stdout",
     "output_type": "stream",
     "text": [
      "Enter number : 100\n",
      "The factors of 100 are :\n",
      "1  2  4  5  10  20  25  50  100  "
     ]
    }
   ],
   "source": [
    "# 20. Write a program to find factors of a number.\n",
    "n = int(input(\"Enter number : \"))\n",
    "print(\"The factors of\",n,\"are :\")\n",
    "for i in range(1,n+1):\n",
    "    if n%i==0:\n",
    "        print(i,end=\"  \")"
   ]
  },
  {
   "cell_type": "code",
   "execution_count": 5,
   "metadata": {},
   "outputs": [
    {
     "name": "stdout",
     "output_type": "stream",
     "text": [
      "How many lines :12\n",
      "The pattern is :\n",
      "*\n",
      "**\n",
      "***\n",
      "****\n",
      "*****\n",
      "******\n",
      "*******\n",
      "********\n",
      "*********\n",
      "**********\n",
      "***********\n",
      "************\n"
     ]
    }
   ],
   "source": [
    "# 21(a). Write a program to print the following pattern.\n",
    "#        *\n",
    "#        **\n",
    "#        ***\n",
    "#        ****\n",
    "#        *****\n",
    "#        ******\n",
    "num = int(input(\"How many lines :\"))\n",
    "print(\"The pattern is :\")\n",
    "for i in range(1,num+1):\n",
    "    print(\"*\"*i)"
   ]
  },
  {
   "cell_type": "code",
   "execution_count": 6,
   "metadata": {},
   "outputs": [
    {
     "name": "stdout",
     "output_type": "stream",
     "text": [
      "How many lines :7\n",
      "The pattern is :\n",
      "*******\n",
      "******\n",
      "*****\n",
      "****\n",
      "***\n",
      "**\n",
      "*\n"
     ]
    }
   ],
   "source": [
    "# 21(b). Write a program to print the following pattern.\n",
    "#        ******\n",
    "#        *****\n",
    "#        ****\n",
    "#        ***\n",
    "#        **\n",
    "#        *\n",
    "num = int(input(\"How many lines :\"))\n",
    "print(\"The pattern is :\")\n",
    "for i in range(num,0,-1):\n",
    "    print(\"*\"*i)"
   ]
  },
  {
   "cell_type": "code",
   "execution_count": 7,
   "metadata": {},
   "outputs": [
    {
     "name": "stdout",
     "output_type": "stream",
     "text": [
      "Enter number :9\n",
      "The pattern is :\n",
      "1\n",
      "22\n",
      "333\n",
      "4444\n",
      "55555\n",
      "666666\n",
      "7777777\n",
      "88888888\n",
      "999999999\n"
     ]
    }
   ],
   "source": [
    "# 21(c). Write a program to print the following pattern.\n",
    "#        1\n",
    "#        22\n",
    "#        333\n",
    "#        4444\n",
    "#        55555\n",
    "#        666666\n",
    "num = int(input(\"Enter number :\"))\n",
    "print(\"The pattern is :\")\n",
    "for i in range(1,num+1):\n",
    "    print((str(i))*i)"
   ]
  },
  {
   "cell_type": "code",
   "execution_count": 8,
   "metadata": {},
   "outputs": [
    {
     "name": "stdout",
     "output_type": "stream",
     "text": [
      "How many lines :6\n",
      "     * \n",
      "    * * \n",
      "   * * * \n",
      "  * * * * \n",
      " * * * * * \n",
      "* * * * * * \n"
     ]
    }
   ],
   "source": [
    "# 21(d). Write a program to print the following pattern.\n",
    "#        *\n",
    "#       * *\n",
    "#      * * * \n",
    "#     * * * *\n",
    "num =int(input(\"How many lines :\"))\n",
    "for i in range(1,num+1):\n",
    "    print(\" \"*(num-i),end=\"\");\n",
    "    print(\"* \"*i)"
   ]
  },
  {
   "cell_type": "code",
   "execution_count": 9,
   "metadata": {},
   "outputs": [
    {
     "name": "stdout",
     "output_type": "stream",
     "text": [
      "1 \n",
      "\n",
      "2 3 \n",
      "\n",
      "4 5 6 \n",
      "\n",
      "7 8 9 10 \n",
      "\n"
     ]
    }
   ],
   "source": [
    "# 21(e). Write a program to print the following pattern.\n",
    "#        1\n",
    "#        2 3\n",
    "#        4 5 6\n",
    "#        7 8 9 10\n",
    "count=0\n",
    "for i in range(1,5):\n",
    "    for j in range(1,i+1):\n",
    "        count+=1\n",
    "        print(count,end=\" \")\n",
    "    print(\"\\n\")"
   ]
  },
  {
   "cell_type": "code",
   "execution_count": 10,
   "metadata": {},
   "outputs": [
    {
     "name": "stdout",
     "output_type": "stream",
     "text": [
      "A \n",
      "\n",
      "B C \n",
      "\n",
      "D E F \n",
      "\n",
      "G H I J \n",
      "\n",
      "K L M N O \n",
      "\n"
     ]
    }
   ],
   "source": [
    "# 21(f). Write a program to print the following pattern.\n",
    "#        A\n",
    "#        B C\n",
    "#        D E F\n",
    "#        G H I J\n",
    "#        K L M N O\n",
    "count=64\n",
    "for i in range(1,6):\n",
    "    for j in range(1,i+1):\n",
    "        count+=1\n",
    "        print(chr(count),end=\" \")\n",
    "    print(\"\\n\")"
   ]
  },
  {
   "cell_type": "code",
   "execution_count": 11,
   "metadata": {},
   "outputs": [
    {
     "name": "stdout",
     "output_type": "stream",
     "text": [
      "Enter Number : 9\n",
      "How many times : 4\n",
      "11106\n"
     ]
    }
   ],
   "source": [
    "# 22. Write a program that computes the value of a+aa+aaa+aaaa with a given digit as the value of a.\n",
    "#     Suppose the following input is supplied to the program: 9, Then, the output should be: 9 + 99 + 999 + 9999 = 11106.\n",
    "sum=0\n",
    "number = int(input(\"Enter Number : \"))\n",
    "times = int(input(\"How many times : \"))\n",
    "for i in range(1,(times+1)):\n",
    "    product=int(\"1\"*i)*number\n",
    "    sum=sum+product\n",
    "print(sum)"
   ]
  }
 ],
 "metadata": {
  "kernelspec": {
   "display_name": "Python 3",
   "language": "python",
   "name": "python3"
  },
  "language_info": {
   "codemirror_mode": {
    "name": "ipython",
    "version": 3
   },
   "file_extension": ".py",
   "mimetype": "text/x-python",
   "name": "python",
   "nbconvert_exporter": "python",
   "pygments_lexer": "ipython3",
   "version": "3.7.3"
  }
 },
 "nbformat": 4,
 "nbformat_minor": 2
}
