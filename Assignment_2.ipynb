{
 "cells": [
  {
   "cell_type": "code",
   "execution_count": 2,
   "metadata": {},
   "outputs": [
    {
     "name": "stdout",
     "output_type": "stream",
     "text": [
      "Enter string :abcdefghijk\n",
      "Length of string is : 11\n"
     ]
    }
   ],
   "source": [
    "# 1.\n",
    "a = input(\"Enter string : \")\n",
    "count=0\n",
    "for i in a:\n",
    "    count+=1\n",
    "print('Length of string is :',count)"
   ]
  },
  {
   "cell_type": "code",
   "execution_count": 3,
   "metadata": {},
   "outputs": [
    {
     "name": "stdout",
     "output_type": "stream",
     "text": [
      "Enter string 1 : hello\n",
      "Enter string 2 : world\n",
      "The concatenation will result to : helloworld\n"
     ]
    }
   ],
   "source": [
    "# 2.\n",
    "a = input(\"Enter string 1 : \")\n",
    "b = input(\"Enter string 2 : \")\n",
    "print(\"The concatenation will result to :\",a+b)"
   ]
  },
  {
   "cell_type": "code",
   "execution_count": 4,
   "metadata": {},
   "outputs": [
    {
     "name": "stdout",
     "output_type": "stream",
     "text": [
      "Enter String : this is a test sentence number 389\n",
      "Total characters are 25.\n",
      "Total integers are 3.\n"
     ]
    }
   ],
   "source": [
    "# 3. Write a program that accepts a sentence (string) and calculate the number of\n",
    "#    letters and digits. Example: ‘this is a test sentence number 389’ ==> letters = 25\n",
    "#    and digits = 3.\n",
    "integ = 0\n",
    "chara = 0\n",
    "a = input(\"Enter String : \")\n",
    "for i in a :\n",
    "    if (ord(i.upper())>64 and ord(i.upper())<91):\n",
    "        chara+=1\n",
    "    elif (ord(i)>48 and ord(i)<60):\n",
    "        integ+=1\n",
    "    else:\n",
    "        pass\n",
    "print(\"Total characters are \",chara,\".\",sep=\"\")\n",
    "print(\"Total integers are \",integ,\".\",sep=\"\")"
   ]
  },
  {
   "cell_type": "code",
   "execution_count": 11,
   "metadata": {},
   "outputs": [
    {
     "name": "stdout",
     "output_type": "stream",
     "text": [
      "Enter String : AbcdefGhijkl2356&%#bchdefP\n",
      "Entered string in upper case is :  ABCDEFGHIJKL2356&%#BCHDEFP\n"
     ]
    }
   ],
   "source": [
    "# 4. Write a program that accepts a string and outputs the string with all capital letters.\n",
    "entered = input(\"Enter String : \")\n",
    "string = \"\"\n",
    "for i in entered:\n",
    "    if ord(i)>96 and ord(i)<123 :\n",
    "        string = string + chr(ord(i)-32)\n",
    "    else:\n",
    "        string = string + i\n",
    "print(\"Entered string in upper case is : \",string)"
   ]
  },
  {
   "cell_type": "code",
   "execution_count": 1,
   "metadata": {},
   "outputs": [
    {
     "name": "stdout",
     "output_type": "stream",
     "text": [
      "AJIT badal\n",
      "4 upper case letters.\n",
      "5 lower case letters.\n"
     ]
    }
   ],
   "source": [
    "# 5. Write a program that accepts a sentence and calculate the number of upper case\n",
    "#    letters and lower case letters.\n",
    "upper = 0\n",
    "lower = 0\n",
    "string = input()\n",
    "for i in string:\n",
    "    if ord(i)>64 and ord (i)<91 :\n",
    "        upper+=1\n",
    "    elif ord(i)>96 and ord(i)<123 :\n",
    "        lower+=1\n",
    "    else:\n",
    "        pass\n",
    "print(upper,\"upper case letters.\")\n",
    "print(lower,\"lower case letters.\")"
   ]
  },
  {
   "cell_type": "code",
   "execution_count": 2,
   "metadata": {},
   "outputs": [
    {
     "name": "stdout",
     "output_type": "stream",
     "text": [
      "THIS is to SAY hello\n",
      "After swapping, results are :  this IS TO say HELLO\n"
     ]
    }
   ],
   "source": [
    "# 6. Swap cases in a string using loops.\n",
    "entered = input()\n",
    "string = \"\"\n",
    "for i in entered:\n",
    "    if ord(i)>64 and ord (i)<91 :\n",
    "        string = string + chr(ord(i)+32)\n",
    "    elif ord(i)>96 and ord(i)<123 :\n",
    "        string = string + chr(ord(i)-32)\n",
    "    else:\n",
    "        string = string + i\n",
    "print(\"After swapping, results are : \",string)"
   ]
  },
  {
   "cell_type": "code",
   "execution_count": 4,
   "metadata": {},
   "outputs": [
    {
     "name": "stdout",
     "output_type": "stream",
     "text": [
      "Enter String : This is a test string.\n",
      "Which character's occurence : i\n",
      "Occurence of i is 3\n"
     ]
    }
   ],
   "source": [
    "# 7. Write a program that counts the occurrence of a character in a string. Example:\n",
    "#    ‘This is a test string.’ count of i = 3.\n",
    "entered = input(\"Enter String : \")\n",
    "char = input(\"Which character's occurence : \")\n",
    "count = 0\n",
    "for i in entered:\n",
    "    if i ==char:\n",
    "        count+=1\n",
    "    else:\n",
    "        pass\n",
    "print(\"Occurence of\",char,\"is\",count)"
   ]
  },
  {
   "cell_type": "code",
   "execution_count": 6,
   "metadata": {},
   "outputs": [
    {
     "name": "stdout",
     "output_type": "stream",
     "text": [
      "Enter String : seves\n",
      "True\n"
     ]
    }
   ],
   "source": [
    "# 8. Write a program to find if a given string is a pallindrome or not.\n",
    "entered = input(\"Enter String : \")\n",
    "reverse = ''\n",
    "for i in entered:\n",
    "    reverse = i + reverse\n",
    "if entered == reverse:\n",
    "    print(True)\n",
    "else:\n",
    "    print(False)"
   ]
  },
  {
   "cell_type": "code",
   "execution_count": 8,
   "metadata": {},
   "outputs": [
    {
     "name": "stdout",
     "output_type": "stream",
     "text": [
      "Enter string : hello\n",
      "Enter index : 2\n",
      "Enter character : y\n",
      "The manipulated string is : heylo\n"
     ]
    }
   ],
   "source": [
    "# 9. Write a program to that accepts a string s, an index number n and a character ‘c’.\n",
    "#    And outputs the string replaced with the character at the index number n.\n",
    "#    Example- ‘hello’ , 0 , ‘j’ ==> ‘jello’\n",
    "entered = input(\"Enter string : \")\n",
    "n = int(input(\"Enter index : \"))\n",
    "char = input(\"Enter character : \")\n",
    "index = -1\n",
    "manipulated = ''\n",
    "for i in entered :\n",
    "    index+=1\n",
    "    if index==n :\n",
    "        manipulated = manipulated + char\n",
    "    else :\n",
    "        manipulated = manipulated + i\n",
    "print(\"The manipulated string is :\",manipulated)"
   ]
  },
  {
   "cell_type": "code",
   "execution_count": 10,
   "metadata": {},
   "outputs": [
    {
     "name": "stdout",
     "output_type": "stream",
     "text": [
      "Enter string : ababababababcdcdccdcdabababababab\n",
      "Enter substring : ab\n",
      "12 occurences.\n"
     ]
    }
   ],
   "source": [
    "# 10. Output the integer number indicating the total number of occurrences of the\n",
    "#    substring in the original string.\n",
    "entered = input(\"Enter string : \")\n",
    "sub = input(\"Enter substring : \")\n",
    "a = entered.count(sub)\n",
    "print(a,\"occurences.\")"
   ]
  },
  {
   "cell_type": "code",
   "execution_count": null,
   "metadata": {},
   "outputs": [],
   "source": []
  }
 ],
 "metadata": {
  "kernelspec": {
   "display_name": "Python 3",
   "language": "python",
   "name": "python3"
  },
  "language_info": {
   "codemirror_mode": {
    "name": "ipython",
    "version": 3
   },
   "file_extension": ".py",
   "mimetype": "text/x-python",
   "name": "python",
   "nbconvert_exporter": "python",
   "pygments_lexer": "ipython3",
   "version": "3.7.3"
  }
 },
 "nbformat": 4,
 "nbformat_minor": 2
}
